{
 "cells": [
  {
   "cell_type": "code",
   "execution_count": 476,
   "metadata": {},
   "outputs": [],
   "source": [
    "# Import the Libraries\n",
    "\n",
    "import pandas as pd\n",
    "import numpy as np\n",
    "import seaborn as sns\n",
    "import matplotlib.pyplot as plt\n",
    "%matplotlib inline\n",
    "from sklearn.model_selection import train_test_split\n",
    "from sklearn.metrics import mean_squared_error,r2_score\n",
    "from sklearn.linear_model import LinearRegression\n",
    "from sklearn.ensemble import RandomForestRegressor\n",
    "from sklearn.model_selection import RandomizedSearchCV\n",
    "from scipy.stats import randint as sp_randint"
   ]
  },
  {
   "cell_type": "code",
   "execution_count": 477,
   "metadata": {},
   "outputs": [],
   "source": [
    "# from the description we know that the dataset has ? as the null value"
   ]
  },
  {
   "cell_type": "code",
   "execution_count": 478,
   "metadata": {},
   "outputs": [
    {
     "data": {
      "text/html": [
       "<div>\n",
       "<style scoped>\n",
       "    .dataframe tbody tr th:only-of-type {\n",
       "        vertical-align: middle;\n",
       "    }\n",
       "\n",
       "    .dataframe tbody tr th {\n",
       "        vertical-align: top;\n",
       "    }\n",
       "\n",
       "    .dataframe thead th {\n",
       "        text-align: right;\n",
       "    }\n",
       "</style>\n",
       "<table border=\"1\" class=\"dataframe\">\n",
       "  <thead>\n",
       "    <tr style=\"text-align: right;\">\n",
       "      <th></th>\n",
       "      <th>0</th>\n",
       "      <th>1</th>\n",
       "      <th>2</th>\n",
       "      <th>3</th>\n",
       "      <th>4</th>\n",
       "      <th>5</th>\n",
       "      <th>6</th>\n",
       "      <th>7</th>\n",
       "      <th>8</th>\n",
       "      <th>9</th>\n",
       "      <th>...</th>\n",
       "      <th>16</th>\n",
       "      <th>17</th>\n",
       "      <th>18</th>\n",
       "      <th>19</th>\n",
       "      <th>20</th>\n",
       "      <th>21</th>\n",
       "      <th>22</th>\n",
       "      <th>23</th>\n",
       "      <th>24</th>\n",
       "      <th>25</th>\n",
       "    </tr>\n",
       "  </thead>\n",
       "  <tbody>\n",
       "    <tr>\n",
       "      <th>0</th>\n",
       "      <td>3</td>\n",
       "      <td>NaN</td>\n",
       "      <td>alfa-romero</td>\n",
       "      <td>gas</td>\n",
       "      <td>std</td>\n",
       "      <td>two</td>\n",
       "      <td>convertible</td>\n",
       "      <td>rwd</td>\n",
       "      <td>front</td>\n",
       "      <td>88.6</td>\n",
       "      <td>...</td>\n",
       "      <td>130</td>\n",
       "      <td>mpfi</td>\n",
       "      <td>3.47</td>\n",
       "      <td>2.68</td>\n",
       "      <td>9.0</td>\n",
       "      <td>111.0</td>\n",
       "      <td>5000.0</td>\n",
       "      <td>21</td>\n",
       "      <td>27</td>\n",
       "      <td>13495.0</td>\n",
       "    </tr>\n",
       "    <tr>\n",
       "      <th>1</th>\n",
       "      <td>3</td>\n",
       "      <td>NaN</td>\n",
       "      <td>alfa-romero</td>\n",
       "      <td>gas</td>\n",
       "      <td>std</td>\n",
       "      <td>two</td>\n",
       "      <td>convertible</td>\n",
       "      <td>rwd</td>\n",
       "      <td>front</td>\n",
       "      <td>88.6</td>\n",
       "      <td>...</td>\n",
       "      <td>130</td>\n",
       "      <td>mpfi</td>\n",
       "      <td>3.47</td>\n",
       "      <td>2.68</td>\n",
       "      <td>9.0</td>\n",
       "      <td>111.0</td>\n",
       "      <td>5000.0</td>\n",
       "      <td>21</td>\n",
       "      <td>27</td>\n",
       "      <td>16500.0</td>\n",
       "    </tr>\n",
       "    <tr>\n",
       "      <th>2</th>\n",
       "      <td>1</td>\n",
       "      <td>NaN</td>\n",
       "      <td>alfa-romero</td>\n",
       "      <td>gas</td>\n",
       "      <td>std</td>\n",
       "      <td>two</td>\n",
       "      <td>hatchback</td>\n",
       "      <td>rwd</td>\n",
       "      <td>front</td>\n",
       "      <td>94.5</td>\n",
       "      <td>...</td>\n",
       "      <td>152</td>\n",
       "      <td>mpfi</td>\n",
       "      <td>2.68</td>\n",
       "      <td>3.47</td>\n",
       "      <td>9.0</td>\n",
       "      <td>154.0</td>\n",
       "      <td>5000.0</td>\n",
       "      <td>19</td>\n",
       "      <td>26</td>\n",
       "      <td>16500.0</td>\n",
       "    </tr>\n",
       "    <tr>\n",
       "      <th>3</th>\n",
       "      <td>2</td>\n",
       "      <td>164.0</td>\n",
       "      <td>audi</td>\n",
       "      <td>gas</td>\n",
       "      <td>std</td>\n",
       "      <td>four</td>\n",
       "      <td>sedan</td>\n",
       "      <td>fwd</td>\n",
       "      <td>front</td>\n",
       "      <td>99.8</td>\n",
       "      <td>...</td>\n",
       "      <td>109</td>\n",
       "      <td>mpfi</td>\n",
       "      <td>3.19</td>\n",
       "      <td>3.40</td>\n",
       "      <td>10.0</td>\n",
       "      <td>102.0</td>\n",
       "      <td>5500.0</td>\n",
       "      <td>24</td>\n",
       "      <td>30</td>\n",
       "      <td>13950.0</td>\n",
       "    </tr>\n",
       "    <tr>\n",
       "      <th>4</th>\n",
       "      <td>2</td>\n",
       "      <td>164.0</td>\n",
       "      <td>audi</td>\n",
       "      <td>gas</td>\n",
       "      <td>std</td>\n",
       "      <td>four</td>\n",
       "      <td>sedan</td>\n",
       "      <td>4wd</td>\n",
       "      <td>front</td>\n",
       "      <td>99.4</td>\n",
       "      <td>...</td>\n",
       "      <td>136</td>\n",
       "      <td>mpfi</td>\n",
       "      <td>3.19</td>\n",
       "      <td>3.40</td>\n",
       "      <td>8.0</td>\n",
       "      <td>115.0</td>\n",
       "      <td>5500.0</td>\n",
       "      <td>18</td>\n",
       "      <td>22</td>\n",
       "      <td>17450.0</td>\n",
       "    </tr>\n",
       "  </tbody>\n",
       "</table>\n",
       "<p>5 rows × 26 columns</p>\n",
       "</div>"
      ],
      "text/plain": [
       "   0      1            2    3    4     5            6    7      8     9   \\\n",
       "0   3    NaN  alfa-romero  gas  std   two  convertible  rwd  front  88.6   \n",
       "1   3    NaN  alfa-romero  gas  std   two  convertible  rwd  front  88.6   \n",
       "2   1    NaN  alfa-romero  gas  std   two    hatchback  rwd  front  94.5   \n",
       "3   2  164.0         audi  gas  std  four        sedan  fwd  front  99.8   \n",
       "4   2  164.0         audi  gas  std  four        sedan  4wd  front  99.4   \n",
       "\n",
       "    ...      16    17    18    19    20     21      22  23  24       25  \n",
       "0   ...     130  mpfi  3.47  2.68   9.0  111.0  5000.0  21  27  13495.0  \n",
       "1   ...     130  mpfi  3.47  2.68   9.0  111.0  5000.0  21  27  16500.0  \n",
       "2   ...     152  mpfi  2.68  3.47   9.0  154.0  5000.0  19  26  16500.0  \n",
       "3   ...     109  mpfi  3.19  3.40  10.0  102.0  5500.0  24  30  13950.0  \n",
       "4   ...     136  mpfi  3.19  3.40   8.0  115.0  5500.0  18  22  17450.0  \n",
       "\n",
       "[5 rows x 26 columns]"
      ]
     },
     "execution_count": 478,
     "metadata": {},
     "output_type": "execute_result"
    }
   ],
   "source": [
    "# Read the data from the file, replacing ? with NAN\n",
    "df=pd.read_csv('automobile.csv',header=-1,na_values='?')\n",
    "df.head()"
   ]
  },
  {
   "cell_type": "code",
   "execution_count": 479,
   "metadata": {},
   "outputs": [],
   "source": [
    "# Specify the column values\n",
    "col=['symboling',             \n",
    "'normalizedlosses',        \n",
    "'make',                     \n",
    "'fueltype',                \n",
    "'aspiration',               \n",
    "'numofdoors',             \n",
    "'bodystyle',               \n",
    "'drivewheels',             \n",
    "'enginelocation',          \n",
    "'wheelbase',               \n",
    "'length',                   \n",
    "'width',                    \n",
    "'height',                   \n",
    "'curbweight',              \n",
    "'enginetype',              \n",
    "'numofcylinders',         \n",
    "'enginesize',              \n",
    "'fuelsystem',              \n",
    "'bore',                     \n",
    "'stroke',                   \n",
    "'compressionratio',        \n",
    "'horsepower',               \n",
    "'peakrpm',                 \n",
    "'citympg',                 \n",
    "'highwaympg',              \n",
    "'price',                    \n",
    "]    "
   ]
  },
  {
   "cell_type": "code",
   "execution_count": 480,
   "metadata": {},
   "outputs": [
    {
     "data": {
      "text/html": [
       "<div>\n",
       "<style scoped>\n",
       "    .dataframe tbody tr th:only-of-type {\n",
       "        vertical-align: middle;\n",
       "    }\n",
       "\n",
       "    .dataframe tbody tr th {\n",
       "        vertical-align: top;\n",
       "    }\n",
       "\n",
       "    .dataframe thead th {\n",
       "        text-align: right;\n",
       "    }\n",
       "</style>\n",
       "<table border=\"1\" class=\"dataframe\">\n",
       "  <thead>\n",
       "    <tr style=\"text-align: right;\">\n",
       "      <th></th>\n",
       "      <th>symboling</th>\n",
       "      <th>normalizedlosses</th>\n",
       "      <th>make</th>\n",
       "      <th>fueltype</th>\n",
       "      <th>aspiration</th>\n",
       "      <th>numofdoors</th>\n",
       "      <th>bodystyle</th>\n",
       "      <th>drivewheels</th>\n",
       "      <th>enginelocation</th>\n",
       "      <th>wheelbase</th>\n",
       "      <th>...</th>\n",
       "      <th>enginesize</th>\n",
       "      <th>fuelsystem</th>\n",
       "      <th>bore</th>\n",
       "      <th>stroke</th>\n",
       "      <th>compressionratio</th>\n",
       "      <th>horsepower</th>\n",
       "      <th>peakrpm</th>\n",
       "      <th>citympg</th>\n",
       "      <th>highwaympg</th>\n",
       "      <th>price</th>\n",
       "    </tr>\n",
       "  </thead>\n",
       "  <tbody>\n",
       "    <tr>\n",
       "      <th>0</th>\n",
       "      <td>3</td>\n",
       "      <td>NaN</td>\n",
       "      <td>alfa-romero</td>\n",
       "      <td>gas</td>\n",
       "      <td>std</td>\n",
       "      <td>two</td>\n",
       "      <td>convertible</td>\n",
       "      <td>rwd</td>\n",
       "      <td>front</td>\n",
       "      <td>88.6</td>\n",
       "      <td>...</td>\n",
       "      <td>130</td>\n",
       "      <td>mpfi</td>\n",
       "      <td>3.47</td>\n",
       "      <td>2.68</td>\n",
       "      <td>9.0</td>\n",
       "      <td>111.0</td>\n",
       "      <td>5000.0</td>\n",
       "      <td>21</td>\n",
       "      <td>27</td>\n",
       "      <td>13495.0</td>\n",
       "    </tr>\n",
       "    <tr>\n",
       "      <th>1</th>\n",
       "      <td>3</td>\n",
       "      <td>NaN</td>\n",
       "      <td>alfa-romero</td>\n",
       "      <td>gas</td>\n",
       "      <td>std</td>\n",
       "      <td>two</td>\n",
       "      <td>convertible</td>\n",
       "      <td>rwd</td>\n",
       "      <td>front</td>\n",
       "      <td>88.6</td>\n",
       "      <td>...</td>\n",
       "      <td>130</td>\n",
       "      <td>mpfi</td>\n",
       "      <td>3.47</td>\n",
       "      <td>2.68</td>\n",
       "      <td>9.0</td>\n",
       "      <td>111.0</td>\n",
       "      <td>5000.0</td>\n",
       "      <td>21</td>\n",
       "      <td>27</td>\n",
       "      <td>16500.0</td>\n",
       "    </tr>\n",
       "    <tr>\n",
       "      <th>2</th>\n",
       "      <td>1</td>\n",
       "      <td>NaN</td>\n",
       "      <td>alfa-romero</td>\n",
       "      <td>gas</td>\n",
       "      <td>std</td>\n",
       "      <td>two</td>\n",
       "      <td>hatchback</td>\n",
       "      <td>rwd</td>\n",
       "      <td>front</td>\n",
       "      <td>94.5</td>\n",
       "      <td>...</td>\n",
       "      <td>152</td>\n",
       "      <td>mpfi</td>\n",
       "      <td>2.68</td>\n",
       "      <td>3.47</td>\n",
       "      <td>9.0</td>\n",
       "      <td>154.0</td>\n",
       "      <td>5000.0</td>\n",
       "      <td>19</td>\n",
       "      <td>26</td>\n",
       "      <td>16500.0</td>\n",
       "    </tr>\n",
       "    <tr>\n",
       "      <th>3</th>\n",
       "      <td>2</td>\n",
       "      <td>164.0</td>\n",
       "      <td>audi</td>\n",
       "      <td>gas</td>\n",
       "      <td>std</td>\n",
       "      <td>four</td>\n",
       "      <td>sedan</td>\n",
       "      <td>fwd</td>\n",
       "      <td>front</td>\n",
       "      <td>99.8</td>\n",
       "      <td>...</td>\n",
       "      <td>109</td>\n",
       "      <td>mpfi</td>\n",
       "      <td>3.19</td>\n",
       "      <td>3.40</td>\n",
       "      <td>10.0</td>\n",
       "      <td>102.0</td>\n",
       "      <td>5500.0</td>\n",
       "      <td>24</td>\n",
       "      <td>30</td>\n",
       "      <td>13950.0</td>\n",
       "    </tr>\n",
       "    <tr>\n",
       "      <th>4</th>\n",
       "      <td>2</td>\n",
       "      <td>164.0</td>\n",
       "      <td>audi</td>\n",
       "      <td>gas</td>\n",
       "      <td>std</td>\n",
       "      <td>four</td>\n",
       "      <td>sedan</td>\n",
       "      <td>4wd</td>\n",
       "      <td>front</td>\n",
       "      <td>99.4</td>\n",
       "      <td>...</td>\n",
       "      <td>136</td>\n",
       "      <td>mpfi</td>\n",
       "      <td>3.19</td>\n",
       "      <td>3.40</td>\n",
       "      <td>8.0</td>\n",
       "      <td>115.0</td>\n",
       "      <td>5500.0</td>\n",
       "      <td>18</td>\n",
       "      <td>22</td>\n",
       "      <td>17450.0</td>\n",
       "    </tr>\n",
       "  </tbody>\n",
       "</table>\n",
       "<p>5 rows × 26 columns</p>\n",
       "</div>"
      ],
      "text/plain": [
       "   symboling  normalizedlosses         make fueltype aspiration numofdoors  \\\n",
       "0          3               NaN  alfa-romero      gas        std        two   \n",
       "1          3               NaN  alfa-romero      gas        std        two   \n",
       "2          1               NaN  alfa-romero      gas        std        two   \n",
       "3          2             164.0         audi      gas        std       four   \n",
       "4          2             164.0         audi      gas        std       four   \n",
       "\n",
       "     bodystyle drivewheels enginelocation  wheelbase   ...     enginesize  \\\n",
       "0  convertible         rwd          front       88.6   ...            130   \n",
       "1  convertible         rwd          front       88.6   ...            130   \n",
       "2    hatchback         rwd          front       94.5   ...            152   \n",
       "3        sedan         fwd          front       99.8   ...            109   \n",
       "4        sedan         4wd          front       99.4   ...            136   \n",
       "\n",
       "   fuelsystem  bore  stroke compressionratio horsepower  peakrpm citympg  \\\n",
       "0        mpfi  3.47    2.68              9.0      111.0   5000.0      21   \n",
       "1        mpfi  3.47    2.68              9.0      111.0   5000.0      21   \n",
       "2        mpfi  2.68    3.47              9.0      154.0   5000.0      19   \n",
       "3        mpfi  3.19    3.40             10.0      102.0   5500.0      24   \n",
       "4        mpfi  3.19    3.40              8.0      115.0   5500.0      18   \n",
       "\n",
       "   highwaympg    price  \n",
       "0          27  13495.0  \n",
       "1          27  16500.0  \n",
       "2          26  16500.0  \n",
       "3          30  13950.0  \n",
       "4          22  17450.0  \n",
       "\n",
       "[5 rows x 26 columns]"
      ]
     },
     "execution_count": 480,
     "metadata": {},
     "output_type": "execute_result"
    }
   ],
   "source": [
    "# assign the column values to the dataset\n",
    "df.columns=col\n",
    "df.head()"
   ]
  },
  {
   "cell_type": "code",
   "execution_count": 481,
   "metadata": {},
   "outputs": [
    {
     "name": "stdout",
     "output_type": "stream",
     "text": [
      "<class 'pandas.core.frame.DataFrame'>\n",
      "RangeIndex: 205 entries, 0 to 204\n",
      "Data columns (total 26 columns):\n",
      "symboling           205 non-null int64\n",
      "normalizedlosses    164 non-null float64\n",
      "make                205 non-null object\n",
      "fueltype            205 non-null object\n",
      "aspiration          205 non-null object\n",
      "numofdoors          203 non-null object\n",
      "bodystyle           205 non-null object\n",
      "drivewheels         205 non-null object\n",
      "enginelocation      205 non-null object\n",
      "wheelbase           205 non-null float64\n",
      "length              205 non-null float64\n",
      "width               205 non-null float64\n",
      "height              205 non-null float64\n",
      "curbweight          205 non-null int64\n",
      "enginetype          205 non-null object\n",
      "numofcylinders      205 non-null object\n",
      "enginesize          205 non-null int64\n",
      "fuelsystem          205 non-null object\n",
      "bore                201 non-null float64\n",
      "stroke              201 non-null float64\n",
      "compressionratio    205 non-null float64\n",
      "horsepower          203 non-null float64\n",
      "peakrpm             203 non-null float64\n",
      "citympg             205 non-null int64\n",
      "highwaympg          205 non-null int64\n",
      "price               201 non-null float64\n",
      "dtypes: float64(11), int64(5), object(10)\n",
      "memory usage: 41.7+ KB\n"
     ]
    }
   ],
   "source": [
    "df.info()"
   ]
  },
  {
   "cell_type": "code",
   "execution_count": 482,
   "metadata": {},
   "outputs": [
    {
     "data": {
      "text/html": [
       "<div>\n",
       "<style scoped>\n",
       "    .dataframe tbody tr th:only-of-type {\n",
       "        vertical-align: middle;\n",
       "    }\n",
       "\n",
       "    .dataframe tbody tr th {\n",
       "        vertical-align: top;\n",
       "    }\n",
       "\n",
       "    .dataframe thead th {\n",
       "        text-align: right;\n",
       "    }\n",
       "</style>\n",
       "<table border=\"1\" class=\"dataframe\">\n",
       "  <thead>\n",
       "    <tr style=\"text-align: right;\">\n",
       "      <th></th>\n",
       "      <th>count</th>\n",
       "      <th>mean</th>\n",
       "      <th>std</th>\n",
       "      <th>min</th>\n",
       "      <th>25%</th>\n",
       "      <th>50%</th>\n",
       "      <th>75%</th>\n",
       "      <th>max</th>\n",
       "    </tr>\n",
       "  </thead>\n",
       "  <tbody>\n",
       "    <tr>\n",
       "      <th>symboling</th>\n",
       "      <td>205.0</td>\n",
       "      <td>0.834146</td>\n",
       "      <td>1.245307</td>\n",
       "      <td>-2.00</td>\n",
       "      <td>0.00</td>\n",
       "      <td>1.00</td>\n",
       "      <td>2.00</td>\n",
       "      <td>3.00</td>\n",
       "    </tr>\n",
       "    <tr>\n",
       "      <th>normalizedlosses</th>\n",
       "      <td>164.0</td>\n",
       "      <td>122.000000</td>\n",
       "      <td>35.442168</td>\n",
       "      <td>65.00</td>\n",
       "      <td>94.00</td>\n",
       "      <td>115.00</td>\n",
       "      <td>150.00</td>\n",
       "      <td>256.00</td>\n",
       "    </tr>\n",
       "    <tr>\n",
       "      <th>wheelbase</th>\n",
       "      <td>205.0</td>\n",
       "      <td>98.756585</td>\n",
       "      <td>6.021776</td>\n",
       "      <td>86.60</td>\n",
       "      <td>94.50</td>\n",
       "      <td>97.00</td>\n",
       "      <td>102.40</td>\n",
       "      <td>120.90</td>\n",
       "    </tr>\n",
       "    <tr>\n",
       "      <th>length</th>\n",
       "      <td>205.0</td>\n",
       "      <td>174.049268</td>\n",
       "      <td>12.337289</td>\n",
       "      <td>141.10</td>\n",
       "      <td>166.30</td>\n",
       "      <td>173.20</td>\n",
       "      <td>183.10</td>\n",
       "      <td>208.10</td>\n",
       "    </tr>\n",
       "    <tr>\n",
       "      <th>width</th>\n",
       "      <td>205.0</td>\n",
       "      <td>65.907805</td>\n",
       "      <td>2.145204</td>\n",
       "      <td>60.30</td>\n",
       "      <td>64.10</td>\n",
       "      <td>65.50</td>\n",
       "      <td>66.90</td>\n",
       "      <td>72.30</td>\n",
       "    </tr>\n",
       "    <tr>\n",
       "      <th>height</th>\n",
       "      <td>205.0</td>\n",
       "      <td>53.724878</td>\n",
       "      <td>2.443522</td>\n",
       "      <td>47.80</td>\n",
       "      <td>52.00</td>\n",
       "      <td>54.10</td>\n",
       "      <td>55.50</td>\n",
       "      <td>59.80</td>\n",
       "    </tr>\n",
       "    <tr>\n",
       "      <th>curbweight</th>\n",
       "      <td>205.0</td>\n",
       "      <td>2555.565854</td>\n",
       "      <td>520.680204</td>\n",
       "      <td>1488.00</td>\n",
       "      <td>2145.00</td>\n",
       "      <td>2414.00</td>\n",
       "      <td>2935.00</td>\n",
       "      <td>4066.00</td>\n",
       "    </tr>\n",
       "    <tr>\n",
       "      <th>enginesize</th>\n",
       "      <td>205.0</td>\n",
       "      <td>126.907317</td>\n",
       "      <td>41.642693</td>\n",
       "      <td>61.00</td>\n",
       "      <td>97.00</td>\n",
       "      <td>120.00</td>\n",
       "      <td>141.00</td>\n",
       "      <td>326.00</td>\n",
       "    </tr>\n",
       "    <tr>\n",
       "      <th>bore</th>\n",
       "      <td>201.0</td>\n",
       "      <td>3.329751</td>\n",
       "      <td>0.273539</td>\n",
       "      <td>2.54</td>\n",
       "      <td>3.15</td>\n",
       "      <td>3.31</td>\n",
       "      <td>3.59</td>\n",
       "      <td>3.94</td>\n",
       "    </tr>\n",
       "    <tr>\n",
       "      <th>stroke</th>\n",
       "      <td>201.0</td>\n",
       "      <td>3.255423</td>\n",
       "      <td>0.316717</td>\n",
       "      <td>2.07</td>\n",
       "      <td>3.11</td>\n",
       "      <td>3.29</td>\n",
       "      <td>3.41</td>\n",
       "      <td>4.17</td>\n",
       "    </tr>\n",
       "    <tr>\n",
       "      <th>compressionratio</th>\n",
       "      <td>205.0</td>\n",
       "      <td>10.142537</td>\n",
       "      <td>3.972040</td>\n",
       "      <td>7.00</td>\n",
       "      <td>8.60</td>\n",
       "      <td>9.00</td>\n",
       "      <td>9.40</td>\n",
       "      <td>23.00</td>\n",
       "    </tr>\n",
       "    <tr>\n",
       "      <th>horsepower</th>\n",
       "      <td>203.0</td>\n",
       "      <td>104.256158</td>\n",
       "      <td>39.714369</td>\n",
       "      <td>48.00</td>\n",
       "      <td>70.00</td>\n",
       "      <td>95.00</td>\n",
       "      <td>116.00</td>\n",
       "      <td>288.00</td>\n",
       "    </tr>\n",
       "    <tr>\n",
       "      <th>peakrpm</th>\n",
       "      <td>203.0</td>\n",
       "      <td>5125.369458</td>\n",
       "      <td>479.334560</td>\n",
       "      <td>4150.00</td>\n",
       "      <td>4800.00</td>\n",
       "      <td>5200.00</td>\n",
       "      <td>5500.00</td>\n",
       "      <td>6600.00</td>\n",
       "    </tr>\n",
       "    <tr>\n",
       "      <th>citympg</th>\n",
       "      <td>205.0</td>\n",
       "      <td>25.219512</td>\n",
       "      <td>6.542142</td>\n",
       "      <td>13.00</td>\n",
       "      <td>19.00</td>\n",
       "      <td>24.00</td>\n",
       "      <td>30.00</td>\n",
       "      <td>49.00</td>\n",
       "    </tr>\n",
       "    <tr>\n",
       "      <th>highwaympg</th>\n",
       "      <td>205.0</td>\n",
       "      <td>30.751220</td>\n",
       "      <td>6.886443</td>\n",
       "      <td>16.00</td>\n",
       "      <td>25.00</td>\n",
       "      <td>30.00</td>\n",
       "      <td>34.00</td>\n",
       "      <td>54.00</td>\n",
       "    </tr>\n",
       "    <tr>\n",
       "      <th>price</th>\n",
       "      <td>201.0</td>\n",
       "      <td>13207.129353</td>\n",
       "      <td>7947.066342</td>\n",
       "      <td>5118.00</td>\n",
       "      <td>7775.00</td>\n",
       "      <td>10295.00</td>\n",
       "      <td>16500.00</td>\n",
       "      <td>45400.00</td>\n",
       "    </tr>\n",
       "  </tbody>\n",
       "</table>\n",
       "</div>"
      ],
      "text/plain": [
       "                  count          mean          std      min      25%  \\\n",
       "symboling         205.0      0.834146     1.245307    -2.00     0.00   \n",
       "normalizedlosses  164.0    122.000000    35.442168    65.00    94.00   \n",
       "wheelbase         205.0     98.756585     6.021776    86.60    94.50   \n",
       "length            205.0    174.049268    12.337289   141.10   166.30   \n",
       "width             205.0     65.907805     2.145204    60.30    64.10   \n",
       "height            205.0     53.724878     2.443522    47.80    52.00   \n",
       "curbweight        205.0   2555.565854   520.680204  1488.00  2145.00   \n",
       "enginesize        205.0    126.907317    41.642693    61.00    97.00   \n",
       "bore              201.0      3.329751     0.273539     2.54     3.15   \n",
       "stroke            201.0      3.255423     0.316717     2.07     3.11   \n",
       "compressionratio  205.0     10.142537     3.972040     7.00     8.60   \n",
       "horsepower        203.0    104.256158    39.714369    48.00    70.00   \n",
       "peakrpm           203.0   5125.369458   479.334560  4150.00  4800.00   \n",
       "citympg           205.0     25.219512     6.542142    13.00    19.00   \n",
       "highwaympg        205.0     30.751220     6.886443    16.00    25.00   \n",
       "price             201.0  13207.129353  7947.066342  5118.00  7775.00   \n",
       "\n",
       "                       50%       75%       max  \n",
       "symboling             1.00      2.00      3.00  \n",
       "normalizedlosses    115.00    150.00    256.00  \n",
       "wheelbase            97.00    102.40    120.90  \n",
       "length              173.20    183.10    208.10  \n",
       "width                65.50     66.90     72.30  \n",
       "height               54.10     55.50     59.80  \n",
       "curbweight         2414.00   2935.00   4066.00  \n",
       "enginesize          120.00    141.00    326.00  \n",
       "bore                  3.31      3.59      3.94  \n",
       "stroke                3.29      3.41      4.17  \n",
       "compressionratio      9.00      9.40     23.00  \n",
       "horsepower           95.00    116.00    288.00  \n",
       "peakrpm            5200.00   5500.00   6600.00  \n",
       "citympg              24.00     30.00     49.00  \n",
       "highwaympg           30.00     34.00     54.00  \n",
       "price             10295.00  16500.00  45400.00  "
      ]
     },
     "execution_count": 482,
     "metadata": {},
     "output_type": "execute_result"
    }
   ],
   "source": [
    "df.describe().T"
   ]
  },
  {
   "cell_type": "code",
   "execution_count": 483,
   "metadata": {},
   "outputs": [
    {
     "data": {
      "text/plain": [
       "symboling            0\n",
       "normalizedlosses    41\n",
       "make                 0\n",
       "fueltype             0\n",
       "aspiration           0\n",
       "numofdoors           2\n",
       "bodystyle            0\n",
       "drivewheels          0\n",
       "enginelocation       0\n",
       "wheelbase            0\n",
       "length               0\n",
       "width                0\n",
       "height               0\n",
       "curbweight           0\n",
       "enginetype           0\n",
       "numofcylinders       0\n",
       "enginesize           0\n",
       "fuelsystem           0\n",
       "bore                 4\n",
       "stroke               4\n",
       "compressionratio     0\n",
       "horsepower           2\n",
       "peakrpm              2\n",
       "citympg              0\n",
       "highwaympg           0\n",
       "price                4\n",
       "dtype: int64"
      ]
     },
     "execution_count": 483,
     "metadata": {},
     "output_type": "execute_result"
    }
   ],
   "source": [
    "# Checking for Null Values\n",
    "df.isnull().sum()"
   ]
  },
  {
   "cell_type": "code",
   "execution_count": 484,
   "metadata": {},
   "outputs": [
    {
     "data": {
      "text/plain": [
       "normalizedlosses    41\n",
       "numofdoors           2\n",
       "bore                 4\n",
       "stroke               4\n",
       "horsepower           2\n",
       "peakrpm              2\n",
       "price                4\n",
       "dtype: int64"
      ]
     },
     "execution_count": 484,
     "metadata": {},
     "output_type": "execute_result"
    }
   ],
   "source": [
    "# Columns with Null Values - Another method \n",
    "df[df.columns[df.isnull().any()].tolist()].isnull().sum()"
   ]
  },
  {
   "cell_type": "code",
   "execution_count": 485,
   "metadata": {},
   "outputs": [
    {
     "data": {
      "text/plain": [
       "symboling             int64\n",
       "normalizedlosses    float64\n",
       "make                 object\n",
       "fueltype             object\n",
       "aspiration           object\n",
       "numofdoors           object\n",
       "bodystyle            object\n",
       "drivewheels          object\n",
       "enginelocation       object\n",
       "wheelbase           float64\n",
       "length              float64\n",
       "width               float64\n",
       "height              float64\n",
       "curbweight            int64\n",
       "enginetype           object\n",
       "numofcylinders       object\n",
       "enginesize            int64\n",
       "fuelsystem           object\n",
       "bore                float64\n",
       "stroke              float64\n",
       "compressionratio    float64\n",
       "horsepower          float64\n",
       "peakrpm             float64\n",
       "citympg               int64\n",
       "highwaympg            int64\n",
       "price               float64\n",
       "dtype: object"
      ]
     },
     "execution_count": 485,
     "metadata": {},
     "output_type": "execute_result"
    }
   ],
   "source": [
    "df.dtypes"
   ]
  },
  {
   "cell_type": "code",
   "execution_count": 486,
   "metadata": {},
   "outputs": [
    {
     "name": "stdout",
     "output_type": "stream",
     "text": [
      "\n",
      "make\n",
      " ['alfa-romero' 'audi' 'bmw' 'chevrolet' 'dodge' 'honda' 'isuzu' 'jaguar'\n",
      " 'mazda' 'mercedes-benz' 'mercury' 'mitsubishi' 'nissan' 'peugot'\n",
      " 'plymouth' 'porsche' 'renault' 'saab' 'subaru' 'toyota' 'volkswagen'\n",
      " 'volvo']\n",
      "\n",
      "fueltype\n",
      " ['gas' 'diesel']\n",
      "\n",
      "aspiration\n",
      " ['std' 'turbo']\n",
      "\n",
      "numofdoors\n",
      " ['two' 'four' nan]\n",
      "\n",
      "bodystyle\n",
      " ['convertible' 'hatchback' 'sedan' 'wagon' 'hardtop']\n",
      "\n",
      "drivewheels\n",
      " ['rwd' 'fwd' '4wd']\n",
      "\n",
      "enginelocation\n",
      " ['front' 'rear']\n",
      "\n",
      "enginetype\n",
      " ['dohc' 'ohcv' 'ohc' 'l' 'rotor' 'ohcf' 'dohcv']\n",
      "\n",
      "numofcylinders\n",
      " ['four' 'six' 'five' 'three' 'twelve' 'two' 'eight']\n",
      "\n",
      "fuelsystem\n",
      " ['mpfi' '2bbl' 'mfi' '1bbl' 'spfi' '4bbl' 'idi' 'spdi']\n"
     ]
    }
   ],
   "source": [
    "# unique Type for each column which is currently an obejct type\n",
    "\n",
    "for i in df.columns:\n",
    "    if df[i].dtype == 'object':\n",
    "        print(\"\\n%s\\n\"%i,df[i].unique())"
   ]
  },
  {
   "cell_type": "code",
   "execution_count": 487,
   "metadata": {},
   "outputs": [],
   "source": [
    "# Remove unwanted columns\n",
    "df.drop(['make', 'symboling', 'normalizedlosses'], axis = 1, inplace = True)"
   ]
  },
  {
   "cell_type": "code",
   "execution_count": 488,
   "metadata": {},
   "outputs": [
    {
     "data": {
      "text/html": [
       "<div>\n",
       "<style scoped>\n",
       "    .dataframe tbody tr th:only-of-type {\n",
       "        vertical-align: middle;\n",
       "    }\n",
       "\n",
       "    .dataframe tbody tr th {\n",
       "        vertical-align: top;\n",
       "    }\n",
       "\n",
       "    .dataframe thead th {\n",
       "        text-align: right;\n",
       "    }\n",
       "</style>\n",
       "<table border=\"1\" class=\"dataframe\">\n",
       "  <thead>\n",
       "    <tr style=\"text-align: right;\">\n",
       "      <th></th>\n",
       "      <th>fueltype</th>\n",
       "      <th>aspiration</th>\n",
       "      <th>numofdoors</th>\n",
       "      <th>bodystyle</th>\n",
       "      <th>drivewheels</th>\n",
       "      <th>enginelocation</th>\n",
       "      <th>wheelbase</th>\n",
       "      <th>length</th>\n",
       "      <th>width</th>\n",
       "      <th>height</th>\n",
       "      <th>...</th>\n",
       "      <th>enginesize</th>\n",
       "      <th>fuelsystem</th>\n",
       "      <th>bore</th>\n",
       "      <th>stroke</th>\n",
       "      <th>compressionratio</th>\n",
       "      <th>horsepower</th>\n",
       "      <th>peakrpm</th>\n",
       "      <th>citympg</th>\n",
       "      <th>highwaympg</th>\n",
       "      <th>price</th>\n",
       "    </tr>\n",
       "  </thead>\n",
       "  <tbody>\n",
       "    <tr>\n",
       "      <th>0</th>\n",
       "      <td>gas</td>\n",
       "      <td>std</td>\n",
       "      <td>two</td>\n",
       "      <td>convertible</td>\n",
       "      <td>rwd</td>\n",
       "      <td>front</td>\n",
       "      <td>88.6</td>\n",
       "      <td>168.8</td>\n",
       "      <td>64.1</td>\n",
       "      <td>48.8</td>\n",
       "      <td>...</td>\n",
       "      <td>130</td>\n",
       "      <td>mpfi</td>\n",
       "      <td>3.47</td>\n",
       "      <td>2.68</td>\n",
       "      <td>9.0</td>\n",
       "      <td>111.0</td>\n",
       "      <td>5000.0</td>\n",
       "      <td>21</td>\n",
       "      <td>27</td>\n",
       "      <td>13495.0</td>\n",
       "    </tr>\n",
       "    <tr>\n",
       "      <th>1</th>\n",
       "      <td>gas</td>\n",
       "      <td>std</td>\n",
       "      <td>two</td>\n",
       "      <td>convertible</td>\n",
       "      <td>rwd</td>\n",
       "      <td>front</td>\n",
       "      <td>88.6</td>\n",
       "      <td>168.8</td>\n",
       "      <td>64.1</td>\n",
       "      <td>48.8</td>\n",
       "      <td>...</td>\n",
       "      <td>130</td>\n",
       "      <td>mpfi</td>\n",
       "      <td>3.47</td>\n",
       "      <td>2.68</td>\n",
       "      <td>9.0</td>\n",
       "      <td>111.0</td>\n",
       "      <td>5000.0</td>\n",
       "      <td>21</td>\n",
       "      <td>27</td>\n",
       "      <td>16500.0</td>\n",
       "    </tr>\n",
       "    <tr>\n",
       "      <th>2</th>\n",
       "      <td>gas</td>\n",
       "      <td>std</td>\n",
       "      <td>two</td>\n",
       "      <td>hatchback</td>\n",
       "      <td>rwd</td>\n",
       "      <td>front</td>\n",
       "      <td>94.5</td>\n",
       "      <td>171.2</td>\n",
       "      <td>65.5</td>\n",
       "      <td>52.4</td>\n",
       "      <td>...</td>\n",
       "      <td>152</td>\n",
       "      <td>mpfi</td>\n",
       "      <td>2.68</td>\n",
       "      <td>3.47</td>\n",
       "      <td>9.0</td>\n",
       "      <td>154.0</td>\n",
       "      <td>5000.0</td>\n",
       "      <td>19</td>\n",
       "      <td>26</td>\n",
       "      <td>16500.0</td>\n",
       "    </tr>\n",
       "    <tr>\n",
       "      <th>3</th>\n",
       "      <td>gas</td>\n",
       "      <td>std</td>\n",
       "      <td>four</td>\n",
       "      <td>sedan</td>\n",
       "      <td>fwd</td>\n",
       "      <td>front</td>\n",
       "      <td>99.8</td>\n",
       "      <td>176.6</td>\n",
       "      <td>66.2</td>\n",
       "      <td>54.3</td>\n",
       "      <td>...</td>\n",
       "      <td>109</td>\n",
       "      <td>mpfi</td>\n",
       "      <td>3.19</td>\n",
       "      <td>3.40</td>\n",
       "      <td>10.0</td>\n",
       "      <td>102.0</td>\n",
       "      <td>5500.0</td>\n",
       "      <td>24</td>\n",
       "      <td>30</td>\n",
       "      <td>13950.0</td>\n",
       "    </tr>\n",
       "    <tr>\n",
       "      <th>4</th>\n",
       "      <td>gas</td>\n",
       "      <td>std</td>\n",
       "      <td>four</td>\n",
       "      <td>sedan</td>\n",
       "      <td>4wd</td>\n",
       "      <td>front</td>\n",
       "      <td>99.4</td>\n",
       "      <td>176.6</td>\n",
       "      <td>66.4</td>\n",
       "      <td>54.3</td>\n",
       "      <td>...</td>\n",
       "      <td>136</td>\n",
       "      <td>mpfi</td>\n",
       "      <td>3.19</td>\n",
       "      <td>3.40</td>\n",
       "      <td>8.0</td>\n",
       "      <td>115.0</td>\n",
       "      <td>5500.0</td>\n",
       "      <td>18</td>\n",
       "      <td>22</td>\n",
       "      <td>17450.0</td>\n",
       "    </tr>\n",
       "  </tbody>\n",
       "</table>\n",
       "<p>5 rows × 23 columns</p>\n",
       "</div>"
      ],
      "text/plain": [
       "  fueltype aspiration numofdoors    bodystyle drivewheels enginelocation  \\\n",
       "0      gas        std        two  convertible         rwd          front   \n",
       "1      gas        std        two  convertible         rwd          front   \n",
       "2      gas        std        two    hatchback         rwd          front   \n",
       "3      gas        std       four        sedan         fwd          front   \n",
       "4      gas        std       four        sedan         4wd          front   \n",
       "\n",
       "   wheelbase  length  width  height   ...     enginesize fuelsystem  bore  \\\n",
       "0       88.6   168.8   64.1    48.8   ...            130       mpfi  3.47   \n",
       "1       88.6   168.8   64.1    48.8   ...            130       mpfi  3.47   \n",
       "2       94.5   171.2   65.5    52.4   ...            152       mpfi  2.68   \n",
       "3       99.8   176.6   66.2    54.3   ...            109       mpfi  3.19   \n",
       "4       99.4   176.6   66.4    54.3   ...            136       mpfi  3.19   \n",
       "\n",
       "   stroke compressionratio  horsepower  peakrpm  citympg  highwaympg    price  \n",
       "0    2.68              9.0       111.0   5000.0       21          27  13495.0  \n",
       "1    2.68              9.0       111.0   5000.0       21          27  16500.0  \n",
       "2    3.47              9.0       154.0   5000.0       19          26  16500.0  \n",
       "3    3.40             10.0       102.0   5500.0       24          30  13950.0  \n",
       "4    3.40              8.0       115.0   5500.0       18          22  17450.0  \n",
       "\n",
       "[5 rows x 23 columns]"
      ]
     },
     "execution_count": 488,
     "metadata": {},
     "output_type": "execute_result"
    }
   ],
   "source": [
    "df.head()"
   ]
  },
  {
   "cell_type": "markdown",
   "metadata": {},
   "source": [
    "# Handling Missing Data"
   ]
  },
  {
   "cell_type": "code",
   "execution_count": 489,
   "metadata": {},
   "outputs": [
    {
     "data": {
      "text/plain": [
       "numofdoors    2\n",
       "bore          4\n",
       "stroke        4\n",
       "horsepower    2\n",
       "peakrpm       2\n",
       "price         4\n",
       "dtype: int64"
      ]
     },
     "execution_count": 489,
     "metadata": {},
     "output_type": "execute_result"
    }
   ],
   "source": [
    "df[df.columns[df.isnull().any()].tolist()].isnull().sum()"
   ]
  },
  {
   "cell_type": "code",
   "execution_count": 490,
   "metadata": {},
   "outputs": [
    {
     "data": {
      "text/html": [
       "<div>\n",
       "<style scoped>\n",
       "    .dataframe tbody tr th:only-of-type {\n",
       "        vertical-align: middle;\n",
       "    }\n",
       "\n",
       "    .dataframe tbody tr th {\n",
       "        vertical-align: top;\n",
       "    }\n",
       "\n",
       "    .dataframe thead th {\n",
       "        text-align: right;\n",
       "    }\n",
       "</style>\n",
       "<table border=\"1\" class=\"dataframe\">\n",
       "  <thead>\n",
       "    <tr style=\"text-align: right;\">\n",
       "      <th></th>\n",
       "      <th>fueltype</th>\n",
       "      <th>aspiration</th>\n",
       "      <th>numofdoors</th>\n",
       "      <th>bodystyle</th>\n",
       "      <th>drivewheels</th>\n",
       "      <th>enginelocation</th>\n",
       "      <th>wheelbase</th>\n",
       "      <th>length</th>\n",
       "      <th>width</th>\n",
       "      <th>height</th>\n",
       "      <th>...</th>\n",
       "      <th>enginesize</th>\n",
       "      <th>fuelsystem</th>\n",
       "      <th>bore</th>\n",
       "      <th>stroke</th>\n",
       "      <th>compressionratio</th>\n",
       "      <th>horsepower</th>\n",
       "      <th>peakrpm</th>\n",
       "      <th>citympg</th>\n",
       "      <th>highwaympg</th>\n",
       "      <th>price</th>\n",
       "    </tr>\n",
       "  </thead>\n",
       "  <tbody>\n",
       "    <tr>\n",
       "      <th>27</th>\n",
       "      <td>gas</td>\n",
       "      <td>turbo</td>\n",
       "      <td>NaN</td>\n",
       "      <td>sedan</td>\n",
       "      <td>fwd</td>\n",
       "      <td>front</td>\n",
       "      <td>93.7</td>\n",
       "      <td>157.3</td>\n",
       "      <td>63.8</td>\n",
       "      <td>50.6</td>\n",
       "      <td>...</td>\n",
       "      <td>98</td>\n",
       "      <td>mpfi</td>\n",
       "      <td>3.03</td>\n",
       "      <td>3.39</td>\n",
       "      <td>7.6</td>\n",
       "      <td>102.0</td>\n",
       "      <td>5500.0</td>\n",
       "      <td>24</td>\n",
       "      <td>30</td>\n",
       "      <td>8558.0</td>\n",
       "    </tr>\n",
       "    <tr>\n",
       "      <th>63</th>\n",
       "      <td>diesel</td>\n",
       "      <td>std</td>\n",
       "      <td>NaN</td>\n",
       "      <td>sedan</td>\n",
       "      <td>fwd</td>\n",
       "      <td>front</td>\n",
       "      <td>98.8</td>\n",
       "      <td>177.8</td>\n",
       "      <td>66.5</td>\n",
       "      <td>55.5</td>\n",
       "      <td>...</td>\n",
       "      <td>122</td>\n",
       "      <td>idi</td>\n",
       "      <td>3.39</td>\n",
       "      <td>3.39</td>\n",
       "      <td>22.7</td>\n",
       "      <td>64.0</td>\n",
       "      <td>4650.0</td>\n",
       "      <td>36</td>\n",
       "      <td>42</td>\n",
       "      <td>10795.0</td>\n",
       "    </tr>\n",
       "  </tbody>\n",
       "</table>\n",
       "<p>2 rows × 23 columns</p>\n",
       "</div>"
      ],
      "text/plain": [
       "   fueltype aspiration numofdoors bodystyle drivewheels enginelocation  \\\n",
       "27      gas      turbo        NaN     sedan         fwd          front   \n",
       "63   diesel        std        NaN     sedan         fwd          front   \n",
       "\n",
       "    wheelbase  length  width  height   ...     enginesize fuelsystem  bore  \\\n",
       "27       93.7   157.3   63.8    50.6   ...             98       mpfi  3.03   \n",
       "63       98.8   177.8   66.5    55.5   ...            122        idi  3.39   \n",
       "\n",
       "    stroke compressionratio  horsepower  peakrpm  citympg  highwaympg    price  \n",
       "27    3.39              7.6       102.0   5500.0       24          30   8558.0  \n",
       "63    3.39             22.7        64.0   4650.0       36          42  10795.0  \n",
       "\n",
       "[2 rows x 23 columns]"
      ]
     },
     "execution_count": 490,
     "metadata": {},
     "output_type": "execute_result"
    }
   ],
   "source": [
    "df[df.numofdoors.isnull()]"
   ]
  },
  {
   "cell_type": "code",
   "execution_count": 491,
   "metadata": {},
   "outputs": [
    {
     "data": {
      "text/plain": [
       "four    79\n",
       "two     15\n",
       "Name: numofdoors, dtype: int64"
      ]
     },
     "execution_count": 491,
     "metadata": {},
     "output_type": "execute_result"
    }
   ],
   "source": [
    "df.numofdoors[df.bodystyle=='sedan'].value_counts()"
   ]
  },
  {
   "cell_type": "code",
   "execution_count": 492,
   "metadata": {},
   "outputs": [
    {
     "data": {
      "text/plain": [
       "four    84.042553\n",
       "two     15.957447\n",
       "Name: numofdoors, dtype: float64"
      ]
     },
     "execution_count": 492,
     "metadata": {},
     "output_type": "execute_result"
    }
   ],
   "source": [
    "df.numofdoors[df.bodystyle=='sedan'].value_counts()/94*100\n",
    "\n",
    "# we can see that 84 % of the cars have 4 doors, so I will replace the null values with 4 doors."
   ]
  },
  {
   "cell_type": "code",
   "execution_count": 493,
   "metadata": {},
   "outputs": [],
   "source": [
    "\n",
    "df.loc[27,'numofdoors'] = 'four'\n",
    "df.loc[63,'numofdoors'] = 'four'"
   ]
  },
  {
   "cell_type": "code",
   "execution_count": 494,
   "metadata": {},
   "outputs": [
    {
     "data": {
      "text/html": [
       "<div>\n",
       "<style scoped>\n",
       "    .dataframe tbody tr th:only-of-type {\n",
       "        vertical-align: middle;\n",
       "    }\n",
       "\n",
       "    .dataframe tbody tr th {\n",
       "        vertical-align: top;\n",
       "    }\n",
       "\n",
       "    .dataframe thead th {\n",
       "        text-align: right;\n",
       "    }\n",
       "</style>\n",
       "<table border=\"1\" class=\"dataframe\">\n",
       "  <thead>\n",
       "    <tr style=\"text-align: right;\">\n",
       "      <th></th>\n",
       "      <th>fueltype</th>\n",
       "      <th>aspiration</th>\n",
       "      <th>numofdoors</th>\n",
       "      <th>bodystyle</th>\n",
       "      <th>drivewheels</th>\n",
       "      <th>enginelocation</th>\n",
       "      <th>wheelbase</th>\n",
       "      <th>length</th>\n",
       "      <th>width</th>\n",
       "      <th>height</th>\n",
       "      <th>...</th>\n",
       "      <th>enginesize</th>\n",
       "      <th>fuelsystem</th>\n",
       "      <th>bore</th>\n",
       "      <th>stroke</th>\n",
       "      <th>compressionratio</th>\n",
       "      <th>horsepower</th>\n",
       "      <th>peakrpm</th>\n",
       "      <th>citympg</th>\n",
       "      <th>highwaympg</th>\n",
       "      <th>price</th>\n",
       "    </tr>\n",
       "  </thead>\n",
       "  <tbody>\n",
       "    <tr>\n",
       "      <th>55</th>\n",
       "      <td>gas</td>\n",
       "      <td>std</td>\n",
       "      <td>two</td>\n",
       "      <td>hatchback</td>\n",
       "      <td>rwd</td>\n",
       "      <td>front</td>\n",
       "      <td>95.3</td>\n",
       "      <td>169.0</td>\n",
       "      <td>65.7</td>\n",
       "      <td>49.6</td>\n",
       "      <td>...</td>\n",
       "      <td>70</td>\n",
       "      <td>4bbl</td>\n",
       "      <td>NaN</td>\n",
       "      <td>NaN</td>\n",
       "      <td>9.4</td>\n",
       "      <td>101.0</td>\n",
       "      <td>6000.0</td>\n",
       "      <td>17</td>\n",
       "      <td>23</td>\n",
       "      <td>10945.0</td>\n",
       "    </tr>\n",
       "    <tr>\n",
       "      <th>56</th>\n",
       "      <td>gas</td>\n",
       "      <td>std</td>\n",
       "      <td>two</td>\n",
       "      <td>hatchback</td>\n",
       "      <td>rwd</td>\n",
       "      <td>front</td>\n",
       "      <td>95.3</td>\n",
       "      <td>169.0</td>\n",
       "      <td>65.7</td>\n",
       "      <td>49.6</td>\n",
       "      <td>...</td>\n",
       "      <td>70</td>\n",
       "      <td>4bbl</td>\n",
       "      <td>NaN</td>\n",
       "      <td>NaN</td>\n",
       "      <td>9.4</td>\n",
       "      <td>101.0</td>\n",
       "      <td>6000.0</td>\n",
       "      <td>17</td>\n",
       "      <td>23</td>\n",
       "      <td>11845.0</td>\n",
       "    </tr>\n",
       "    <tr>\n",
       "      <th>57</th>\n",
       "      <td>gas</td>\n",
       "      <td>std</td>\n",
       "      <td>two</td>\n",
       "      <td>hatchback</td>\n",
       "      <td>rwd</td>\n",
       "      <td>front</td>\n",
       "      <td>95.3</td>\n",
       "      <td>169.0</td>\n",
       "      <td>65.7</td>\n",
       "      <td>49.6</td>\n",
       "      <td>...</td>\n",
       "      <td>70</td>\n",
       "      <td>4bbl</td>\n",
       "      <td>NaN</td>\n",
       "      <td>NaN</td>\n",
       "      <td>9.4</td>\n",
       "      <td>101.0</td>\n",
       "      <td>6000.0</td>\n",
       "      <td>17</td>\n",
       "      <td>23</td>\n",
       "      <td>13645.0</td>\n",
       "    </tr>\n",
       "    <tr>\n",
       "      <th>58</th>\n",
       "      <td>gas</td>\n",
       "      <td>std</td>\n",
       "      <td>two</td>\n",
       "      <td>hatchback</td>\n",
       "      <td>rwd</td>\n",
       "      <td>front</td>\n",
       "      <td>95.3</td>\n",
       "      <td>169.0</td>\n",
       "      <td>65.7</td>\n",
       "      <td>49.6</td>\n",
       "      <td>...</td>\n",
       "      <td>80</td>\n",
       "      <td>mpfi</td>\n",
       "      <td>NaN</td>\n",
       "      <td>NaN</td>\n",
       "      <td>9.4</td>\n",
       "      <td>135.0</td>\n",
       "      <td>6000.0</td>\n",
       "      <td>16</td>\n",
       "      <td>23</td>\n",
       "      <td>15645.0</td>\n",
       "    </tr>\n",
       "  </tbody>\n",
       "</table>\n",
       "<p>4 rows × 23 columns</p>\n",
       "</div>"
      ],
      "text/plain": [
       "   fueltype aspiration numofdoors  bodystyle drivewheels enginelocation  \\\n",
       "55      gas        std        two  hatchback         rwd          front   \n",
       "56      gas        std        two  hatchback         rwd          front   \n",
       "57      gas        std        two  hatchback         rwd          front   \n",
       "58      gas        std        two  hatchback         rwd          front   \n",
       "\n",
       "    wheelbase  length  width  height   ...     enginesize fuelsystem bore  \\\n",
       "55       95.3   169.0   65.7    49.6   ...             70       4bbl  NaN   \n",
       "56       95.3   169.0   65.7    49.6   ...             70       4bbl  NaN   \n",
       "57       95.3   169.0   65.7    49.6   ...             70       4bbl  NaN   \n",
       "58       95.3   169.0   65.7    49.6   ...             80       mpfi  NaN   \n",
       "\n",
       "    stroke compressionratio  horsepower  peakrpm  citympg  highwaympg    price  \n",
       "55     NaN              9.4       101.0   6000.0       17          23  10945.0  \n",
       "56     NaN              9.4       101.0   6000.0       17          23  11845.0  \n",
       "57     NaN              9.4       101.0   6000.0       17          23  13645.0  \n",
       "58     NaN              9.4       135.0   6000.0       16          23  15645.0  \n",
       "\n",
       "[4 rows x 23 columns]"
      ]
     },
     "execution_count": 494,
     "metadata": {},
     "output_type": "execute_result"
    }
   ],
   "source": [
    "# Bore column\n",
    "df[df.bore.isnull()]"
   ]
  },
  {
   "cell_type": "code",
   "execution_count": 495,
   "metadata": {},
   "outputs": [],
   "source": [
    "# for numeric columns, we can just use the mean of the column to fill our missing values\n",
    "df.bore.fillna(df.bore.mean(), inplace=True)\n",
    "df.stroke.fillna(df.stroke.mean(), inplace=True)\n",
    "df.horsepower.fillna(df.horsepower.mean(), inplace=True)\n",
    "df.peakrpm.fillna(df.peakrpm.mean(), inplace=True)\n"
   ]
  },
  {
   "cell_type": "code",
   "execution_count": 496,
   "metadata": {},
   "outputs": [],
   "source": [
    "# Price is our dependent variable, or the target variable. So we need to get rid of rows that contains missing data in this column\n",
    "df.drop(df[df.price.isnull()].index, axis = 0, inplace = True)"
   ]
  },
  {
   "cell_type": "code",
   "execution_count": 497,
   "metadata": {},
   "outputs": [
    {
     "data": {
      "text/plain": [
       "fueltype            0\n",
       "aspiration          0\n",
       "numofdoors          0\n",
       "bodystyle           0\n",
       "drivewheels         0\n",
       "enginelocation      0\n",
       "wheelbase           0\n",
       "length              0\n",
       "width               0\n",
       "height              0\n",
       "curbweight          0\n",
       "enginetype          0\n",
       "numofcylinders      0\n",
       "enginesize          0\n",
       "fuelsystem          0\n",
       "bore                0\n",
       "stroke              0\n",
       "compressionratio    0\n",
       "horsepower          0\n",
       "peakrpm             0\n",
       "citympg             0\n",
       "highwaympg          0\n",
       "price               0\n",
       "dtype: int64"
      ]
     },
     "execution_count": 497,
     "metadata": {},
     "output_type": "execute_result"
    }
   ],
   "source": [
    "df.isnull().sum()"
   ]
  },
  {
   "cell_type": "code",
   "execution_count": 498,
   "metadata": {},
   "outputs": [
    {
     "data": {
      "text/plain": [
       "four      157\n",
       "six        24\n",
       "five       10\n",
       "eight       4\n",
       "two         4\n",
       "three       1\n",
       "twelve      1\n",
       "Name: numofcylinders, dtype: int64"
      ]
     },
     "execution_count": 498,
     "metadata": {},
     "output_type": "execute_result"
    }
   ],
   "source": [
    "# Dealing with categorical Column\n",
    "df.numofcylinders.value_counts()"
   ]
  },
  {
   "cell_type": "code",
   "execution_count": 499,
   "metadata": {},
   "outputs": [],
   "source": [
    "# We are not interpreting this column as categorical\n",
    "df.loc[df.index[df.numofcylinders == 'four'],'numofcylinders'] = 4\n",
    "df.loc[df.index[df.numofcylinders == 'six'],'numofcylinders'] = 6\n",
    "df.loc[df.index[df.numofcylinders == 'five'],'numofcylinders'] = 5\n",
    "df.loc[df.index[df.numofcylinders == 'eight'],'numofcylinders'] = 8\n",
    "df.loc[df.index[df.numofcylinders == 'two'],'numofcylinders'] = 2\n",
    "df.loc[df.index[df.numofcylinders == 'three'],'numofcylinders'] = 3\n",
    "df.loc[df.index[df.numofcylinders == 'twelve'],'numofcylinders'] = 12\n",
    "\n",
    "df.numofcylinders = df.numofcylinders.astype('int')"
   ]
  },
  {
   "cell_type": "code",
   "execution_count": 500,
   "metadata": {},
   "outputs": [
    {
     "data": {
      "image/png": "[encoded data removed]",
      "text/plain": [
       "<Figure size 1080x1080 with 2 Axes>"
      ]
     },
     "metadata": {
      "needs_background": "light"
     },
     "output_type": "display_data"
    }
   ],
   "source": [
    "plt.figure(figsize=(15,15))\n",
    "sns.heatmap(df.corr(),annot=True)\n",
    "plt.show()"
   ]
  },
  {
   "cell_type": "code",
   "execution_count": 501,
   "metadata": {},
   "outputs": [
    {
     "data": {
      "image/png": "[encoded data removed]",
      "text/plain": [
       "<Figure size 432x288 with 1 Axes>"
      ]
     },
     "metadata": {
      "needs_background": "light"
     },
     "output_type": "display_data"
    },
    {
     "data": {
      "image/png": "[encoded data removed]",
      "text/plain": [
       "<Figure size 432x288 with 1 Axes>"
      ]
     },
     "metadata": {
      "needs_background": "light"
     },
     "output_type": "display_data"
    },
    {
     "data": {
      "image/png": "[encoded data removed]",
      "text/plain": [
       "<Figure size 432x288 with 1 Axes>"
      ]
     },
     "metadata": {
      "needs_background": "light"
     },
     "output_type": "display_data"
    },
    {
     "data": {
      "image/png": "[encoded data removed]",
      "text/plain": [
       "<Figure size 432x288 with 1 Axes>"
      ]
     },
     "metadata": {
      "needs_background": "light"
     },
     "output_type": "display_data"
    },
    {
     "data": {
      "image/png": "[encoded data removed]",
      "text/plain": [
       "<Figure size 432x288 with 1 Axes>"
      ]
     },
     "metadata": {
      "needs_background": "light"
     },
     "output_type": "display_data"
    },
    {
     "data": {
      "image/png": "[encoded data removed]",
      "text/plain": [
       "<Figure size 432x288 with 1 Axes>"
      ]
     },
     "metadata": {
      "needs_background": "light"
     },
     "output_type": "display_data"
    },
    {
     "data": {
      "image/png": "[encoded data removed]",
      "text/plain": [
       "<Figure size 432x288 with 1 Axes>"
      ]
     },
     "metadata": {
      "needs_background": "light"
     },
     "output_type": "display_data"
    },
    {
     "data": {
      "image/png": "[encoded data removed]",
      "text/plain": [
       "<Figure size 432x288 with 1 Axes>"
      ]
     },
     "metadata": {
      "needs_background": "light"
     },
     "output_type": "display_data"
    }
   ],
   "source": [
    "for i in df.columns:\n",
    "    if df[i].dtype == 'object':\n",
    "        sns.countplot(df[i])\n",
    "        plt.show()\n",
    "    "
   ]
  },
  {
   "cell_type": "code",
   "execution_count": 502,
   "metadata": {},
   "outputs": [],
   "source": [
    "# othet categorical Columns, get dummies\n",
    "cat_columns = ['fueltype', 'fuelsystem', 'aspiration', 'numofdoors', \n",
    "               'bodystyle', 'drivewheels', 'enginelocation', 'enginetype']\n",
    "\n",
    "df = pd.get_dummies(df, columns = cat_columns, drop_first=True)"
   ]
  },
  {
   "cell_type": "code",
   "execution_count": 503,
   "metadata": {},
   "outputs": [
    {
     "data": {
      "text/plain": [
       "wheelbase              float64\n",
       "length                 float64\n",
       "width                  float64\n",
       "height                 float64\n",
       "curbweight               int64\n",
       "numofcylinders           int32\n",
       "enginesize               int64\n",
       "bore                   float64\n",
       "stroke                 float64\n",
       "compressionratio       float64\n",
       "horsepower             float64\n",
       "peakrpm                float64\n",
       "citympg                  int64\n",
       "highwaympg               int64\n",
       "price                  float64\n",
       "fueltype_gas             uint8\n",
       "fuelsystem_2bbl          uint8\n",
       "fuelsystem_4bbl          uint8\n",
       "fuelsystem_idi           uint8\n",
       "fuelsystem_mfi           uint8\n",
       "fuelsystem_mpfi          uint8\n",
       "fuelsystem_spdi          uint8\n",
       "fuelsystem_spfi          uint8\n",
       "aspiration_turbo         uint8\n",
       "numofdoors_two           uint8\n",
       "bodystyle_hardtop        uint8\n",
       "bodystyle_hatchback      uint8\n",
       "bodystyle_sedan          uint8\n",
       "bodystyle_wagon          uint8\n",
       "drivewheels_fwd          uint8\n",
       "drivewheels_rwd          uint8\n",
       "enginelocation_rear      uint8\n",
       "enginetype_l             uint8\n",
       "enginetype_ohc           uint8\n",
       "enginetype_ohcf          uint8\n",
       "enginetype_ohcv          uint8\n",
       "enginetype_rotor         uint8\n",
       "dtype: object"
      ]
     },
     "execution_count": 503,
     "metadata": {},
     "output_type": "execute_result"
    }
   ],
   "source": [
    "df.dtypes  "
   ]
  },
  {
   "cell_type": "code",
   "execution_count": null,
   "metadata": {},
   "outputs": [],
   "source": []
  },
  {
   "cell_type": "markdown",
   "metadata": {},
   "source": [
    "#  Regression Technique\n"
   ]
  },
  {
   "cell_type": "code",
   "execution_count": 504,
   "metadata": {},
   "outputs": [
    {
     "name": "stderr",
     "output_type": "stream",
     "text": [
      "C:\\Users\\lenovo\\Anaconda3\\lib\\site-packages\\sklearn\\model_selection\\_split.py:2179: FutureWarning: From version 0.21, test_size will always complement train_size unless both are specified.\n",
      "  FutureWarning)\n"
     ]
    }
   ],
   "source": [
    "# splitting data into train and test\n",
    "x=df.iloc[:,[0,1,2,3,4,5,6,7,8,9,10,11,12,13,15,16,17,18,19,20,21,22,23,24,25,26,27,28,29,30]]\n",
    "y=df.iloc[:,14]\n",
    "x_temp,x_test,y_temp,y_test=train_test_split(x,y,train_size=0.7,random_state=1)\n",
    "x_train,x_val,y_train,y_val=train_test_split(x_temp,y_temp,train_size=0.7,random_state=1)"
   ]
  },
  {
   "cell_type": "code",
   "execution_count": 505,
   "metadata": {},
   "outputs": [],
   "source": [
    "LR=LinearRegression()\n",
    "model=LR.fit(x_train,y_train)\n"
   ]
  },
  {
   "cell_type": "code",
   "execution_count": 506,
   "metadata": {},
   "outputs": [
    {
     "data": {
      "text/plain": [
       "0.9097094488184247"
      ]
     },
     "execution_count": 506,
     "metadata": {},
     "output_type": "execute_result"
    }
   ],
   "source": [
    "model.score(x_train,y_train)"
   ]
  },
  {
   "cell_type": "code",
   "execution_count": 507,
   "metadata": {},
   "outputs": [
    {
     "data": {
      "text/plain": [
       "0.7651868047296747"
      ]
     },
     "execution_count": 507,
     "metadata": {},
     "output_type": "execute_result"
    }
   ],
   "source": [
    "model.score(x_val,y_val)"
   ]
  },
  {
   "cell_type": "code",
   "execution_count": 508,
   "metadata": {},
   "outputs": [
    {
     "data": {
      "text/plain": [
       "0.7931109008595895"
      ]
     },
     "execution_count": 508,
     "metadata": {},
     "output_type": "execute_result"
    }
   ],
   "source": [
    "model.score(x_test,y_test)"
   ]
  },
  {
   "cell_type": "code",
   "execution_count": 509,
   "metadata": {},
   "outputs": [
    {
     "name": "stdout",
     "output_type": "stream",
     "text": [
      "Actual value $9,549.00, Predicted value $14,004.37 (%-46.66)\n",
      "Actual value $6,229.00, Predicted value $5,413.02 (%13.10)\n",
      "Actual value $10,245.00, Predicted value $12,839.62 (%-25.33)\n",
      "Actual value $7,295.00, Predicted value $8,484.09 (%-16.30)\n",
      "Actual value $9,989.00, Predicted value $10,886.62 (%-8.99)\n",
      "Actual value $6,338.00, Predicted value $5,359.60 (%15.44)\n",
      "Actual value $12,964.00, Predicted value $14,157.08 (%-9.20)\n",
      "Actual value $8,499.00, Predicted value $8,112.34 (%4.55)\n",
      "Actual value $17,450.00, Predicted value $16,692.56 (%4.34)\n",
      "Actual value $6,295.00, Predicted value $4,284.55 (%31.94)\n",
      "Actual value $8,948.00, Predicted value $6,597.18 (%26.27)\n",
      "Actual value $7,295.00, Predicted value $8,326.37 (%-14.14)\n",
      "Actual value $8,449.00, Predicted value $14,533.77 (%-72.02)\n",
      "Actual value $20,970.00, Predicted value $14,855.02 (%29.16)\n",
      "Actual value $11,694.00, Predicted value $6,439.85 (%44.93)\n",
      "Actual value $16,630.00, Predicted value $14,540.37 (%12.57)\n",
      "Actual value $6,479.00, Predicted value $-1,712.92 (%126.44)\n",
      "Actual value $22,470.00, Predicted value $18,858.94 (%16.07)\n",
      "Actual value $7,499.00, Predicted value $7,867.49 (%-4.91)\n",
      "Actual value $8,195.00, Predicted value $10,122.77 (%-23.52)\n",
      "Actual value $8,845.00, Predicted value $10,977.58 (%-24.11)\n",
      "Actual value $8,058.00, Predicted value $7,023.49 (%12.84)\n",
      "Actual value $36,880.00, Predicted value $33,178.91 (%10.04)\n",
      "Actual value $15,580.00, Predicted value $17,033.36 (%-9.33)\n",
      "Actual value $5,399.00, Predicted value $581.71 (%89.23)\n",
      "Actual value $32,250.00, Predicted value $32,241.08 (%0.03)\n",
      "Actual value $11,199.00, Predicted value $14,503.16 (%-29.50)\n",
      "Actual value $5,195.00, Predicted value $3,730.58 (%28.19)\n",
      "Actual value $10,898.00, Predicted value $6,686.61 (%38.64)\n",
      "Actual value $7,999.00, Predicted value $4,444.74 (%44.43)\n",
      "Actual value $12,940.00, Predicted value $17,142.03 (%-32.47)\n",
      "Actual value $8,921.00, Predicted value $13,194.03 (%-47.90)\n",
      "Actual value $12,945.00, Predicted value $10,356.41 (%20.00)\n",
      "Actual value $6,849.00, Predicted value $7,874.75 (%-14.98)\n",
      "Actual value $15,998.00, Predicted value $19,008.88 (%-18.82)\n",
      "Actual value $18,150.00, Predicted value $15,420.99 (%15.04)\n",
      "Actual value $9,279.00, Predicted value $11,486.09 (%-23.79)\n",
      "Actual value $7,775.00, Predicted value $6,034.33 (%22.39)\n",
      "Actual value $13,499.00, Predicted value $21,800.12 (%-61.49)\n",
      "Actual value $31,600.00, Predicted value $26,644.69 (%15.68)\n",
      "Actual value $13,845.00, Predicted value $8,591.83 (%37.94)\n",
      "Actual value $16,695.00, Predicted value $13,873.99 (%16.90)\n",
      "Actual value $22,018.00, Predicted value $17,378.15 (%21.07)\n",
      "Actual value $10,595.00, Predicted value $10,035.66 (%5.28)\n",
      "Actual value $30,760.00, Predicted value $31,133.69 (%-1.21)\n",
      "Actual value $8,845.00, Predicted value $10,035.66 (%-13.46)\n",
      "Actual value $6,575.00, Predicted value $5,750.52 (%12.54)\n",
      "Actual value $7,395.00, Predicted value $7,388.58 (%0.09)\n",
      "Actual value $10,295.00, Predicted value $9,285.00 (%9.81)\n",
      "Actual value $18,399.00, Predicted value $19,810.29 (%-7.67)\n",
      "Actual value $9,895.00, Predicted value $8,378.92 (%15.32)\n",
      "Actual value $18,950.00, Predicted value $17,447.35 (%7.93)\n",
      "Actual value $5,389.00, Predicted value $4,295.09 (%20.30)\n",
      "Actual value $11,248.00, Predicted value $4,795.16 (%57.37)\n",
      "Actual value $11,845.00, Predicted value $10,945.00 (%7.60)\n",
      "Actual value $7,129.00, Predicted value $5,931.27 (%16.80)\n",
      "Actual value $7,995.00, Predicted value $10,394.75 (%-30.02)\n",
      "Actual value $9,258.00, Predicted value $6,619.38 (%28.50)\n",
      "Actual value $17,669.00, Predicted value $17,881.30 (%-1.20)\n",
      "Actual value $22,625.00, Predicted value $18,381.99 (%18.75)\n",
      "Actual value $9,995.00, Predicted value $10,382.45 (%-3.88)\n"
     ]
    }
   ],
   "source": [
    "predicted_price = model.predict(x_test)\n",
    "actual_price = np.array(y_test)\n",
    "\n",
    "for i in range(len(predicted_price)):\n",
    "    actual = actual_price[i]\n",
    "    predicted = predicted_price[i]\n",
    "    explained = ((actual_price[i] - predicted_price[i])/actual_price[i])*100\n",
    "    \n",
    "    print('Actual value ${:,.2f}, Predicted value ${:,.2f} (%{:.2f})'.format(actual, predicted, explained))"
   ]
  },
  {
   "cell_type": "code",
   "execution_count": 510,
   "metadata": {},
   "outputs": [],
   "source": [
    "# From the above we can understand the model has high variance so we should check for other models based on regression algorithms"
   ]
  },
  {
   "cell_type": "code",
   "execution_count": null,
   "metadata": {},
   "outputs": [],
   "source": []
  },
  {
   "cell_type": "code",
   "execution_count": 511,
   "metadata": {
    "scrolled": true
   },
   "outputs": [],
   "source": [
    "rf=RandomForestRegressor(n_estimators=50)\n",
    "rfmodel=rf.fit(x_train,y_train)"
   ]
  },
  {
   "cell_type": "code",
   "execution_count": 512,
   "metadata": {},
   "outputs": [
    {
     "data": {
      "text/plain": [
       "0.9856133547064739"
      ]
     },
     "execution_count": 512,
     "metadata": {},
     "output_type": "execute_result"
    }
   ],
   "source": [
    "rfmodel.score(x_train,y_train)"
   ]
  },
  {
   "cell_type": "code",
   "execution_count": 513,
   "metadata": {},
   "outputs": [
    {
     "data": {
      "text/plain": [
       "0.9195546917284425"
      ]
     },
     "execution_count": 513,
     "metadata": {},
     "output_type": "execute_result"
    }
   ],
   "source": [
    "rfmodel.score(x_val,y_val)"
   ]
  },
  {
   "cell_type": "code",
   "execution_count": 514,
   "metadata": {},
   "outputs": [
    {
     "data": {
      "text/plain": [
       "0.8896293620367957"
      ]
     },
     "execution_count": 514,
     "metadata": {},
     "output_type": "execute_result"
    }
   ],
   "source": [
    "rfmodel.score(x_test,y_test)"
   ]
  },
  {
   "cell_type": "code",
   "execution_count": 515,
   "metadata": {},
   "outputs": [],
   "source": [
    "\n",
    "param_dist = {\"max_depth\": [3, None],\n",
    "              \"max_features\": sp_randint(1, 11),\n",
    "              \"min_samples_split\": sp_randint(2, 11),\n",
    "              \"min_samples_leaf\": sp_randint(1, 11),\n",
    "              \"bootstrap\": [True, False],\n",
    "              }"
   ]
  },
  {
   "cell_type": "code",
   "execution_count": 516,
   "metadata": {},
   "outputs": [],
   "source": [
    "# run randomized search\n",
    "samples = 10  # number of random samples \n",
    "randomCV = RandomizedSearchCV(rfmodel, param_distributions=param_dist, n_iter=samples, cv=5) "
   ]
  },
  {
   "cell_type": "code",
   "execution_count": null,
   "metadata": {},
   "outputs": [],
   "source": []
  },
  {
   "cell_type": "code",
   "execution_count": 517,
   "metadata": {},
   "outputs": [
    {
     "name": "stdout",
     "output_type": "stream",
     "text": [
      "{'bootstrap': False, 'max_depth': None, 'max_features': 9, 'min_samples_leaf': 3, 'min_samples_split': 4}\n"
     ]
    }
   ],
   "source": [
    "randomCV.fit(x_train, y_train)\n",
    "\n",
    " \n",
    "print(randomCV.best_params_)\n"
   ]
  },
  {
   "cell_type": "code",
   "execution_count": 518,
   "metadata": {},
   "outputs": [],
   "source": [
    "rf=RandomForestRegressor(n_estimators=50, bootstrap= False, max_depth= 3, max_features= 7, min_samples_leaf= 1, min_samples_split= 7)\n",
    "rfmodel=rf.fit(x_train,y_train)"
   ]
  },
  {
   "cell_type": "code",
   "execution_count": 519,
   "metadata": {},
   "outputs": [
    {
     "data": {
      "text/plain": [
       "0.9633066103662264"
      ]
     },
     "execution_count": 519,
     "metadata": {},
     "output_type": "execute_result"
    }
   ],
   "source": [
    "rfmodel.score(x_train,y_train)"
   ]
  },
  {
   "cell_type": "code",
   "execution_count": 520,
   "metadata": {},
   "outputs": [
    {
     "data": {
      "text/plain": [
       "0.900550826769826"
      ]
     },
     "execution_count": 520,
     "metadata": {},
     "output_type": "execute_result"
    }
   ],
   "source": [
    "rfmodel.score(x_val,y_val)"
   ]
  },
  {
   "cell_type": "code",
   "execution_count": 521,
   "metadata": {},
   "outputs": [
    {
     "data": {
      "text/plain": [
       "0.8997175813209662"
      ]
     },
     "execution_count": 521,
     "metadata": {},
     "output_type": "execute_result"
    }
   ],
   "source": [
    "rfmodel.score(x_test,y_test)"
   ]
  },
  {
   "cell_type": "code",
   "execution_count": 523,
   "metadata": {},
   "outputs": [],
   "source": [
    "# From the above observations we have obtained a stable model as the accuraccy is almost stable in both validation and test set"
   ]
  },
  {
   "cell_type": "code",
   "execution_count": 524,
   "metadata": {},
   "outputs": [
    {
     "name": "stdout",
     "output_type": "stream",
     "text": [
      "Actual value $9,549.00, Predicted value $8,853.75 (%7.28)\n",
      "Actual value $6,229.00, Predicted value $7,563.40 (%-21.42)\n",
      "Actual value $10,245.00, Predicted value $9,940.20 (%2.98)\n",
      "Actual value $7,295.00, Predicted value $7,751.67 (%-6.26)\n",
      "Actual value $9,989.00, Predicted value $11,976.40 (%-19.90)\n",
      "Actual value $6,338.00, Predicted value $7,563.40 (%-19.33)\n",
      "Actual value $12,964.00, Predicted value $15,542.96 (%-19.89)\n",
      "Actual value $8,499.00, Predicted value $8,030.77 (%5.51)\n",
      "Actual value $17,450.00, Predicted value $15,915.80 (%8.79)\n",
      "Actual value $6,295.00, Predicted value $7,563.40 (%-20.15)\n",
      "Actual value $8,948.00, Predicted value $12,716.50 (%-42.12)\n",
      "Actual value $7,295.00, Predicted value $7,751.67 (%-6.26)\n",
      "Actual value $8,449.00, Predicted value $11,462.28 (%-35.66)\n",
      "Actual value $20,970.00, Predicted value $17,613.70 (%16.01)\n",
      "Actual value $11,694.00, Predicted value $11,848.16 (%-1.32)\n",
      "Actual value $16,630.00, Predicted value $15,026.26 (%9.64)\n",
      "Actual value $6,479.00, Predicted value $7,720.35 (%-19.16)\n",
      "Actual value $22,470.00, Predicted value $17,425.68 (%22.45)\n",
      "Actual value $7,499.00, Predicted value $7,563.40 (%-0.86)\n",
      "Actual value $8,195.00, Predicted value $8,256.15 (%-0.75)\n",
      "Actual value $8,845.00, Predicted value $8,331.55 (%5.80)\n",
      "Actual value $8,058.00, Predicted value $8,714.87 (%-8.15)\n",
      "Actual value $36,880.00, Predicted value $35,549.58 (%3.61)\n",
      "Actual value $15,580.00, Predicted value $14,887.17 (%4.45)\n",
      "Actual value $5,399.00, Predicted value $7,720.35 (%-43.00)\n",
      "Actual value $32,250.00, Predicted value $36,180.93 (%-12.19)\n",
      "Actual value $11,199.00, Predicted value $12,513.31 (%-11.74)\n",
      "Actual value $5,195.00, Predicted value $7,724.31 (%-48.69)\n",
      "Actual value $10,898.00, Predicted value $12,810.94 (%-17.55)\n",
      "Actual value $7,999.00, Predicted value $7,563.40 (%5.45)\n",
      "Actual value $12,940.00, Predicted value $15,935.43 (%-23.15)\n",
      "Actual value $8,921.00, Predicted value $10,903.32 (%-22.22)\n",
      "Actual value $12,945.00, Predicted value $10,318.55 (%20.29)\n",
      "Actual value $6,849.00, Predicted value $7,563.40 (%-10.43)\n",
      "Actual value $15,998.00, Predicted value $17,640.41 (%-10.27)\n",
      "Actual value $18,150.00, Predicted value $16,253.90 (%10.45)\n",
      "Actual value $9,279.00, Predicted value $9,210.19 (%0.74)\n",
      "Actual value $7,775.00, Predicted value $7,809.89 (%-0.45)\n",
      "Actual value $13,499.00, Predicted value $17,102.53 (%-26.69)\n",
      "Actual value $31,600.00, Predicted value $27,837.51 (%11.91)\n",
      "Actual value $13,845.00, Predicted value $12,618.76 (%8.86)\n",
      "Actual value $16,695.00, Predicted value $14,733.66 (%11.75)\n",
      "Actual value $22,018.00, Predicted value $16,256.45 (%26.17)\n",
      "Actual value $10,595.00, Predicted value $9,940.20 (%6.18)\n",
      "Actual value $30,760.00, Predicted value $34,002.82 (%-10.54)\n",
      "Actual value $8,845.00, Predicted value $9,940.20 (%-12.38)\n",
      "Actual value $6,575.00, Predicted value $7,563.40 (%-15.03)\n",
      "Actual value $7,395.00, Predicted value $7,563.40 (%-2.28)\n",
      "Actual value $10,295.00, Predicted value $8,282.15 (%19.55)\n",
      "Actual value $18,399.00, Predicted value $17,340.84 (%5.75)\n",
      "Actual value $9,895.00, Predicted value $11,198.00 (%-13.17)\n",
      "Actual value $18,950.00, Predicted value $17,415.49 (%8.10)\n",
      "Actual value $5,389.00, Predicted value $7,563.40 (%-40.35)\n",
      "Actual value $11,248.00, Predicted value $12,810.94 (%-13.90)\n",
      "Actual value $11,845.00, Predicted value $12,237.46 (%-3.31)\n",
      "Actual value $7,129.00, Predicted value $7,751.67 (%-8.73)\n",
      "Actual value $7,995.00, Predicted value $7,769.75 (%2.82)\n",
      "Actual value $9,258.00, Predicted value $7,666.04 (%17.20)\n",
      "Actual value $17,669.00, Predicted value $12,954.04 (%26.68)\n",
      "Actual value $22,625.00, Predicted value $16,544.69 (%26.87)\n",
      "Actual value $9,995.00, Predicted value $9,284.05 (%7.11)\n"
     ]
    }
   ],
   "source": [
    "predicted_price = rfmodel.predict(x_test)\n",
    "actual_price = np.array(y_test)\n",
    "\n",
    "for i in range(len(predicted_price)):\n",
    "    actual = actual_price[i]\n",
    "    predicted = predicted_price[i]\n",
    "    explained = ((actual_price[i] - predicted_price[i])/actual_price[i])*100\n",
    "    \n",
    "    print('Actual value ${:,.2f}, Predicted value ${:,.2f} (%{:.2f})'.format(actual, predicted, explained))"
   ]
  },
  {
   "cell_type": "code",
   "execution_count": null,
   "metadata": {},
   "outputs": [],
   "source": []
  },
  {
   "cell_type": "code",
   "execution_count": null,
   "metadata": {},
   "outputs": [],
   "source": []
  }
 ],
 "metadata": {
  "kernelspec": {
   "display_name": "Python 3",
   "language": "python",
   "name": "python3"
  },
  "language_info": {
   "codemirror_mode": {
    "name": "ipython",
    "version": 3
   },
   "file_extension": ".py",
   "mimetype": "text/x-python",
   "name": "python",
   "nbconvert_exporter": "python",
   "pygments_lexer": "ipython3",
   "version": "3.7.0"
  }
 },
 "nbformat": 4,
 "nbformat_minor": 2
}
